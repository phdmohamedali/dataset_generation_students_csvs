{
  "nbformat": 4,
  "nbformat_minor": 0,
  "metadata": {
    "colab": {
      "name": "students_dataset.ipynb",
      "provenance": []
    },
    "kernelspec": {
      "name": "python3",
      "display_name": "Python 3"
    }
  },
  "cells": [
    {
      "cell_type": "markdown",
      "metadata": {
        "id": "7USgvmhz7w2B",
        "colab_type": "text"
      },
      "source": [
        "# This script is gathering the data collected by students\n",
        "## input: four directories one per each student each directory has 4 consequetive files per block \n",
        "## output: timestame, user, ap1, ap2, ap3, .... x, y\n",
        "\n"
      ]
    },
    {
      "cell_type": "code",
      "metadata": {
        "id": "rzeNkoBJ7MIz",
        "colab_type": "code",
        "colab": {}
      },
      "source": [
        "#get necessary library\n",
        "import datetime\n",
        "import pandas as pd\n",
        "import numpy as np\n",
        "import matplotlib.pyplot as plt\n",
        "import time\n",
        "import seaborn\n",
        "import os\n",
        "from google.colab import drive\n",
        "\n",
        "#%matplotlib notebook\n",
        "#%matplotlib notebook\n",
        "%matplotlib inline"
      ],
      "execution_count": 0,
      "outputs": []
    },
    {
      "cell_type": "code",
      "metadata": {
        "id": "D3Q6CDhHYw3x",
        "colab_type": "code",
        "outputId": "d81ce217-700c-4f67-cfde-f36b454acc5d",
        "colab": {
          "base_uri": "https://localhost:8080/",
          "height": 35
        }
      },
      "source": [
        "#mount google drive as a local hard\n",
        "def load_drive():\n",
        "  drive.mount('/content/gdrive')\n",
        "load_drive()\n",
        "#  4/yAAcrbE2vpNNZaEKL63PGWT5vi5uUZQEiGbmq1j3xeHTMOB9y-R3ryE"
      ],
      "execution_count": 0,
      "outputs": [
        {
          "output_type": "stream",
          "text": [
            "Drive already mounted at /content/gdrive; to attempt to forcibly remount, call drive.mount(\"/content/gdrive\", force_remount=True).\n"
          ],
          "name": "stdout"
        }
      ]
    },
    {
      "cell_type": "code",
      "metadata": {
        "id": "xqwVTtCVfq6F",
        "colab_type": "code",
        "colab": {}
      },
      "source": [
        "main_dir = '/content/gdrive/My Drive/australia_phd/phd_data/1/'\n",
        "#rss_path_all = '/content/gdrive/My Drive/Colab Notebooks/gen_data_set/allData_device_before_3Aug.csv'\n",
        "blocks_start = 'plan.csv'\n",
        "st_name_id = {2:'hassan'}\n",
        "#1:'azifa',2:'hassan', 3:'ibrahim', 4:'mahmoud'}\n",
        "our_dir = 'out_data_1.csv'\n",
        "pd_filter_data = [['13'],['17'],['4'],['21'],['18'],['6'],['22'],['9'],['19'],['8'],['12'],['38'],['37'],['39'],['15'],['33'],['7'],['11'],['3'],['10']]"
      ],
      "execution_count": 0,
      "outputs": []
    },
    {
      "cell_type": "markdown",
      "metadata": {
        "id": "aegeIG-joX3_",
        "colab_type": "text"
      },
      "source": [
        "Create some helping functions:\n",
        "\n",
        "1.   **load_data_set** for reading data from a file\n",
        "2.   **filter_columns** filter panda \n",
        "1.   **add_mis_acc** add missing access points and transpose\n",
        "2.   **trans_add_time_name_loc** transpose the record and add user id,  the timestamp and location x, y\n"
      ]
    },
    {
      "cell_type": "code",
      "metadata": {
        "id": "Jz_3trXof5ef",
        "colab_type": "code",
        "outputId": "b44383c2-c1a3-4700-8978-08939ff23169",
        "colab": {
          "base_uri": "https://localhost:8080/",
          "height": 35
        }
      },
      "source": [
        "def load_data_set(path):\n",
        "  data_set = pd.read_csv(path, header = None)\n",
        "  return data_set\n",
        "tmp_table = load_data_set(main_dir+blocks_start)\n",
        "print(tmp_table[tmp_table[0]=='25-09-2019'][1])"
      ],
      "execution_count": 0,
      "outputs": [
        {
          "output_type": "stream",
          "text": [
            "Series([], Name: 1, dtype: int64)\n"
          ],
          "name": "stdout"
        }
      ]
    },
    {
      "cell_type": "code",
      "metadata": {
        "id": "g1icOpMjxH5a",
        "colab_type": "code",
        "outputId": "0d5d80b6-8935-42b3-ac0b-9dfb36d735ec",
        "colab": {
          "base_uri": "https://localhost:8080/",
          "height": 386
        }
      },
      "source": [
        "def filter_columns(pd_f, filter_col):\n",
        "  return pd_f[filter_col]\n",
        "filter_columns(tmp_table,[0])"
      ],
      "execution_count": 0,
      "outputs": [
        {
          "output_type": "execute_result",
          "data": {
            "text/html": [
              "<div>\n",
              "<style scoped>\n",
              "    .dataframe tbody tr th:only-of-type {\n",
              "        vertical-align: middle;\n",
              "    }\n",
              "\n",
              "    .dataframe tbody tr th {\n",
              "        vertical-align: top;\n",
              "    }\n",
              "\n",
              "    .dataframe thead th {\n",
              "        text-align: right;\n",
              "    }\n",
              "</style>\n",
              "<table border=\"1\" class=\"dataframe\">\n",
              "  <thead>\n",
              "    <tr style=\"text-align: right;\">\n",
              "      <th></th>\n",
              "      <th>0</th>\n",
              "    </tr>\n",
              "  </thead>\n",
              "  <tbody>\n",
              "    <tr>\n",
              "      <th>0</th>\n",
              "      <td>2019-09-25</td>\n",
              "    </tr>\n",
              "    <tr>\n",
              "      <th>1</th>\n",
              "      <td>2019-09-26</td>\n",
              "    </tr>\n",
              "    <tr>\n",
              "      <th>2</th>\n",
              "      <td>2019-09-27</td>\n",
              "    </tr>\n",
              "    <tr>\n",
              "      <th>3</th>\n",
              "      <td>2019-09-28</td>\n",
              "    </tr>\n",
              "    <tr>\n",
              "      <th>4</th>\n",
              "      <td>2019-09-29</td>\n",
              "    </tr>\n",
              "    <tr>\n",
              "      <th>5</th>\n",
              "      <td>2019-09-30</td>\n",
              "    </tr>\n",
              "    <tr>\n",
              "      <th>6</th>\n",
              "      <td>2019-10-01</td>\n",
              "    </tr>\n",
              "    <tr>\n",
              "      <th>7</th>\n",
              "      <td>2019-10-02</td>\n",
              "    </tr>\n",
              "    <tr>\n",
              "      <th>8</th>\n",
              "      <td>2019-10-03</td>\n",
              "    </tr>\n",
              "    <tr>\n",
              "      <th>9</th>\n",
              "      <td>2019-10-04</td>\n",
              "    </tr>\n",
              "    <tr>\n",
              "      <th>10</th>\n",
              "      <td>2019-10-05</td>\n",
              "    </tr>\n",
              "  </tbody>\n",
              "</table>\n",
              "</div>"
            ],
            "text/plain": [
              "             0\n",
              "0   2019-09-25\n",
              "1   2019-09-26\n",
              "2   2019-09-27\n",
              "3   2019-09-28\n",
              "4   2019-09-29\n",
              "5   2019-09-30\n",
              "6   2019-10-01\n",
              "7   2019-10-02\n",
              "8   2019-10-03\n",
              "9   2019-10-04\n",
              "10  2019-10-05"
            ]
          },
          "metadata": {
            "tags": []
          },
          "execution_count": 36
        }
      ]
    },
    {
      "cell_type": "code",
      "metadata": {
        "id": "qx6bITdV0sEw",
        "colab_type": "code",
        "outputId": "9c5c767d-7d85-48b3-bb69-b099dfb1cdaf",
        "colab": {
          "base_uri": "https://localhost:8080/",
          "height": 745
        }
      },
      "source": [
        "def add_mis_acc(pd_to_filter, pd_filter):\n",
        "  # Create the pandas DataFrame \n",
        "  pd_to_filter.columns = ['ap','rss']\n",
        "  #print(pd_)\n",
        "  result = pd.merge(pd_filter,pd_to_filter, left_on= 'ap',right_on = 'ap', how='left')\n",
        "  result['rss'] = result['rss'].fillna(-100)\n",
        "  result.sort_values(by='ap',ascending=True,inplace=True)\n",
        "  #result=result.sort_values(by='ap', axis = 0,  inplace = True, ascending = True)\n",
        "  return result\n",
        "\n",
        "pd_filter = pd.DataFrame(pd_filter_data, columns = ['ap']) \n",
        "pd_to_filter = load_data_set('/content/gdrive/My Drive/australia_phd/phd_data/1/azifa/2019-10-05-144039.csv')\n",
        "res=filter_columns(pd_to_filter,[0,5])\n",
        "print(res[5])\n",
        "#pd.DataFrame([['13',-20],['12',-30],['Atif Elboob',30]], columns=[0,1])\n",
        "res = add_mis_acc(res,pd_filter)\n",
        "print(res)"
      ],
      "execution_count": 0,
      "outputs": [
        {
          "output_type": "stream",
          "text": [
            "0     -65 dBm\n",
            "1     -65 dBm\n",
            "2     -66 dBm\n",
            "3     -65 dBm\n",
            "4     -66 dBm\n",
            "5     -69 dBm\n",
            "6     -73 dBm\n",
            "7     -72 dBm\n",
            "8     -73 dBm\n",
            "9     -72 dBm\n",
            "10    -80 dBm\n",
            "11    -78 dBm\n",
            "12    -76 dBm\n",
            "13    -87 dBm\n",
            "14    -82 dBm\n",
            "15    -83 dBm\n",
            "16    -82 dBm\n",
            "17    -85 dBm\n",
            "18    -87 dBm\n",
            "19    -82 dBm\n",
            "Name: 5, dtype: object\n",
            "    ap      rss\n",
            "19  10     -100\n",
            "17  11  -85 dBm\n",
            "10  12     -100\n",
            "0   13  -82 dBm\n",
            "14  15     -100\n",
            "1   17  -82 dBm\n",
            "4   18     -100\n",
            "8   19     -100\n",
            "3   21     -100\n",
            "6   22  -78 dBm\n",
            "18   3  -82 dBm\n",
            "15  33     -100\n",
            "12  37  -87 dBm\n",
            "11  38     -100\n",
            "13  39  -83 dBm\n",
            "2    4  -76 dBm\n",
            "5    6     -100\n",
            "16   7     -100\n",
            "9    8  -69 dBm\n",
            "7    9  -87 dBm\n"
          ],
          "name": "stdout"
        }
      ]
    },
    {
      "cell_type": "code",
      "metadata": {
        "id": "EgJL0MiCbdQZ",
        "colab_type": "code",
        "colab": {}
      },
      "source": [
        "def trans_add_time_name_loc(df, data_req, x, y, user=1000):\n",
        "  df = df.set_index('ap').T\n",
        "  df['date'] = data_req\n",
        "  df['x'] = x\n",
        "  df['y'] = y\n",
        "  df['user'] = user\n",
        "  return df\n",
        "res2 = trans_add_time_name_loc(res,'22-3-2019 3343',1,2)"
      ],
      "execution_count": 0,
      "outputs": []
    },
    {
      "cell_type": "code",
      "metadata": {
        "id": "sGQGMDGlyjdm",
        "colab_type": "code",
        "outputId": "417dbae1-ded8-4b56-c33c-a9a343696db8",
        "colab": {
          "base_uri": "https://localhost:8080/",
          "height": 145
        }
      },
      "source": [
        "def join_pands(pd1, pd2):\n",
        "  pd_res = [pd1,pd2]\n",
        "  return pd.concat(pd_res)\n",
        "pd1 = res2.copy()\n",
        "pd2 = res2.copy()\n",
        "join_pands(pd1,pd2)"
      ],
      "execution_count": 0,
      "outputs": [
        {
          "output_type": "execute_result",
          "data": {
            "text/html": [
              "<div>\n",
              "<style scoped>\n",
              "    .dataframe tbody tr th:only-of-type {\n",
              "        vertical-align: middle;\n",
              "    }\n",
              "\n",
              "    .dataframe tbody tr th {\n",
              "        vertical-align: top;\n",
              "    }\n",
              "\n",
              "    .dataframe thead th {\n",
              "        text-align: right;\n",
              "    }\n",
              "</style>\n",
              "<table border=\"1\" class=\"dataframe\">\n",
              "  <thead>\n",
              "    <tr style=\"text-align: right;\">\n",
              "      <th>ap</th>\n",
              "      <th>10</th>\n",
              "      <th>11</th>\n",
              "      <th>12</th>\n",
              "      <th>13</th>\n",
              "      <th>15</th>\n",
              "      <th>17</th>\n",
              "      <th>18</th>\n",
              "      <th>19</th>\n",
              "      <th>21</th>\n",
              "      <th>22</th>\n",
              "      <th>3</th>\n",
              "      <th>33</th>\n",
              "      <th>37</th>\n",
              "      <th>38</th>\n",
              "      <th>39</th>\n",
              "      <th>4</th>\n",
              "      <th>6</th>\n",
              "      <th>7</th>\n",
              "      <th>8</th>\n",
              "      <th>9</th>\n",
              "      <th>date</th>\n",
              "      <th>x</th>\n",
              "      <th>y</th>\n",
              "      <th>user</th>\n",
              "    </tr>\n",
              "  </thead>\n",
              "  <tbody>\n",
              "    <tr>\n",
              "      <th>rss</th>\n",
              "      <td>-100</td>\n",
              "      <td>-85 dBm</td>\n",
              "      <td>-100</td>\n",
              "      <td>-82 dBm</td>\n",
              "      <td>-100</td>\n",
              "      <td>-82 dBm</td>\n",
              "      <td>-100</td>\n",
              "      <td>-100</td>\n",
              "      <td>-100</td>\n",
              "      <td>-78 dBm</td>\n",
              "      <td>-82 dBm</td>\n",
              "      <td>-100</td>\n",
              "      <td>-87 dBm</td>\n",
              "      <td>-100</td>\n",
              "      <td>-83 dBm</td>\n",
              "      <td>-76 dBm</td>\n",
              "      <td>-100</td>\n",
              "      <td>-100</td>\n",
              "      <td>-69 dBm</td>\n",
              "      <td>-87 dBm</td>\n",
              "      <td>22-3-2019 3343</td>\n",
              "      <td>1</td>\n",
              "      <td>2</td>\n",
              "      <td>1000</td>\n",
              "    </tr>\n",
              "    <tr>\n",
              "      <th>rss</th>\n",
              "      <td>-100</td>\n",
              "      <td>-85 dBm</td>\n",
              "      <td>-100</td>\n",
              "      <td>-82 dBm</td>\n",
              "      <td>-100</td>\n",
              "      <td>-82 dBm</td>\n",
              "      <td>-100</td>\n",
              "      <td>-100</td>\n",
              "      <td>-100</td>\n",
              "      <td>-78 dBm</td>\n",
              "      <td>-82 dBm</td>\n",
              "      <td>-100</td>\n",
              "      <td>-87 dBm</td>\n",
              "      <td>-100</td>\n",
              "      <td>-83 dBm</td>\n",
              "      <td>-76 dBm</td>\n",
              "      <td>-100</td>\n",
              "      <td>-100</td>\n",
              "      <td>-69 dBm</td>\n",
              "      <td>-87 dBm</td>\n",
              "      <td>22-3-2019 3343</td>\n",
              "      <td>1</td>\n",
              "      <td>2</td>\n",
              "      <td>1000</td>\n",
              "    </tr>\n",
              "  </tbody>\n",
              "</table>\n",
              "</div>"
            ],
            "text/plain": [
              "ap     10       11    12       13    15  ...        9            date  x  y  user\n",
              "rss  -100  -85 dBm  -100  -82 dBm  -100  ...  -87 dBm  22-3-2019 3343  1  2  1000\n",
              "rss  -100  -85 dBm  -100  -82 dBm  -100  ...  -87 dBm  22-3-2019 3343  1  2  1000\n",
              "\n",
              "[2 rows x 24 columns]"
            ]
          },
          "metadata": {
            "tags": []
          },
          "execution_count": 39
        }
      ]
    },
    {
      "cell_type": "code",
      "metadata": {
        "id": "EWfPWO6suAjM",
        "colab_type": "code",
        "colab": {}
      },
      "source": [
        "def saveCSV(df, filePath):\n",
        "  df.to_csv(index=False,path_or_buf=filePath)\n",
        "saveCSV(pd.DataFrame({'name': ['Raphael', 'Donatello'],'mask': ['red', 'purple'], 'weapon': ['sai', 'bo staff']}), main_dir+\"azifa\"+\"/\"+\"azifa\")"
      ],
      "execution_count": 0,
      "outputs": []
    },
    {
      "cell_type": "code",
      "metadata": {
        "id": "voidX1pDzfQ_",
        "colab_type": "code",
        "outputId": "4c57ed6d-9833-47ea-f7d4-193e38bd5fd0",
        "colab": {
          "base_uri": "https://localhost:8080/",
          "height": 659
        }
      },
      "source": [
        "def orch():\n",
        "  load_drive()\n",
        "  startBlock = load_data_set(main_dir+blocks_start)\n",
        "  startBlock[0] = startBlock[0].str.strip()\n",
        "  startBlock[1] = startBlock[1].astype(int)\n",
        "  startBlock.columns = ['date', 'start']\n",
        "  startBlockIndX = 0\n",
        "  startBlockIndy = 0\n",
        "  accumY = 0\n",
        "  maxY = 132\n",
        "  count = 0\n",
        "  finalRes = pd.DataFrame()\n",
        "  for k, v in st_name_id.items():\n",
        "    internalBlockIndy = 0\n",
        "    glbBlockIndy = 0\n",
        "    accumY = 0\n",
        "    destdir = main_dir+v+\"/\"\n",
        "    files = [ f for f in os.listdir(destdir) if (os.path.isfile(os.path.join(destdir,f) ) and '.csv' in f)]\n",
        "    #print(v)\n",
        "    files.sort()\n",
        "    #print(len(files))\n",
        "    #return\n",
        "    finalRes = pd.DataFrame()\n",
        "    prevDate = '1990-09-09'\n",
        "    #print(files)\n",
        "    #return\n",
        "    for f in files:\n",
        "      sdatetime = f[0:-4].strip()       #trimed from .csv\n",
        "      sdate = sdatetime[0:-7].strip()   #trimed from time\n",
        "      #print(\"start\")\n",
        "      count = count + 1\n",
        "      #print(\".\")\n",
        "      #print(sdate)\n",
        "      #print(count)\n",
        "      #retur\n",
        "      currentDate = startBlock[startBlock['date']==sdate].start.values[0]\n",
        "      #prevDate = currentDate\n",
        "      if(currentDate != prevDate):\n",
        "        print(currentDate)\n",
        "        print(prevDate)\n",
        "        glbBlockIndy = 0\n",
        "      xVal =  currentDate + glbBlockIndy//maxY\n",
        "\n",
        "      #return\n",
        "      y =  glbBlockIndy%maxY\n",
        "      yVal = y // 4 \n",
        "      glbBlockIndy = glbBlockIndy + 1\n",
        "      internalBlockIndy = internalBlockIndy + 1\n",
        "      fPath = destdir+f         #fullpath of the file\n",
        "      sRecord = load_data_set(fPath)   \n",
        "      #print(fPath)\n",
        "      sRecord = filter_columns(sRecord, [0,5])\n",
        "      #sRecord.columns = ['ap','rss']\n",
        "      sRecord[5] = sRecord[5].apply(lambda x: x[:-4])\n",
        "      sRecord[0] = sRecord[0].astype(str)\n",
        "      #print(sRecord.dtypes)\n",
        "      sRecord = add_mis_acc(sRecord,pd_filter)\n",
        "\n",
        "      record = trans_add_time_name_loc(sRecord,sdatetime,xVal,yVal,k)\n",
        "      if(count == 0):\n",
        "        finalRes = join_pands(pd1,record)\n",
        "      else:\n",
        "        finalRes = join_pands(finalRes,record)\n",
        "      \n",
        "      prevDate = currentDate\n",
        "\n",
        "    outFilePath = destdir+v+\".cst\"\n",
        "    print(\"output: \" + outFilePath)\n",
        "    saveCSV(finalRes,outFilePath)  \n",
        "st_name_id = {1:'azifa',2:'hassan', 3:'ibrahim', 4:'mahmoud'}\n",
        "orch()"
      ],
      "execution_count": 0,
      "outputs": [
        {
          "output_type": "stream",
          "text": [
            "Mounted at /content/gdrive\n",
            "0\n",
            "1990-09-09\n",
            "2\n",
            "0\n",
            "7\n",
            "2\n",
            "9\n",
            "7\n",
            "output: /content/gdrive/My Drive/australia_phd/phd_data/1/azifa/azifa.cst\n",
            "0\n",
            "1990-09-09\n",
            "2\n",
            "0\n",
            "7\n",
            "2\n",
            "9\n",
            "7\n",
            "output: /content/gdrive/My Drive/australia_phd/phd_data/1/hassan/hassan.cst\n",
            "0\n",
            "1990-09-09\n",
            "2\n",
            "0\n",
            "7\n",
            "2\n",
            "9\n",
            "7\n",
            "output: /content/gdrive/My Drive/australia_phd/phd_data/1/ibrahim/ibrahim.cst\n",
            "0\n",
            "1990-09-09\n",
            "2\n",
            "0\n",
            "7\n",
            "2\n",
            "9\n",
            "7\n",
            "output: /content/gdrive/My Drive/australia_phd/phd_data/1/mahmoud/mahmoud.cst\n"
          ],
          "name": "stdout"
        }
      ]
    },
    {
      "cell_type": "code",
      "metadata": {
        "id": "sjHhXj0o0Vrc",
        "colab_type": "code",
        "colab": {}
      },
      "source": [
        ""
      ],
      "execution_count": 0,
      "outputs": []
    }
  ]
}